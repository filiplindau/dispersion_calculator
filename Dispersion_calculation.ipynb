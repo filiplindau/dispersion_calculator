{
 "cells": [
  {
   "cell_type": "code",
   "execution_count": null,
   "metadata": {
    "collapsed": true
   },
   "outputs": [],
   "source": [
    "%matplotlib inline\n",
    "style.use('dark_background')\n",
    "import os\n",
    "import logging\n",
    "from scipy.interpolate import interp1d\n",
    "root = logging.getLogger()\n",
    "root.setLevel(logging.WARN)\n",
    "import warnings\n",
    "warnings.filterwarnings('ignore')"
   ]
  },
  {
   "cell_type": "markdown",
   "metadata": {},
   "source": [
    "Constants:"
   ]
  },
  {
   "cell_type": "code",
   "execution_count": null,
   "metadata": {
    "collapsed": true
   },
   "outputs": [],
   "source": [
    "c = 299792458.0"
   ]
  },
  {
   "cell_type": "markdown",
   "metadata": {},
   "source": [
    "Defining pulse parameters:"
   ]
  },
  {
   "cell_type": "code",
   "execution_count": 59,
   "metadata": {
    "collapsed": false
   },
   "outputs": [],
   "source": [
    "tspan = 2.0e-12\n",
    "t_fwhm = 50e-15\n",
    "tau = t_fwhm / sqrt(2*log(2))\n",
    "# tau = 30e-15\n",
    "l0 = 800e-9\n",
    "w0 = 2*pi*c/l0\n",
    "N = 8192\n",
    "dt = tspan / N\n",
    "t = np.linspace(-tspan/2, tspan/2, N)\n",
    "w = fft.fftshift((2*pi*fft.fftfreq(N, d=dt)))"
   ]
  },
  {
   "cell_type": "code",
   "execution_count": 60,
   "metadata": {
    "collapsed": false
   },
   "outputs": [
    {
     "data": {
      "text/plain": [
       "2.354564459136067"
      ]
     },
     "execution_count": 60,
     "metadata": {},
     "output_type": "execute_result"
    }
   ],
   "source": [
    "w0*1e-15"
   ]
  },
  {
   "cell_type": "code",
   "execution_count": 61,
   "metadata": {
    "collapsed": false
   },
   "outputs": [],
   "source": [
    "ph = 0.0\n",
    "E_t = exp(-t**2/tau**2 + ph) * exp(1j*w0*t)"
   ]
  },
  {
   "cell_type": "code",
   "execution_count": 62,
   "metadata": {
    "collapsed": false
   },
   "outputs": [],
   "source": [
    "E_w = fft.fftshift(fft.fft(E_t))"
   ]
  },
  {
   "cell_type": "markdown",
   "metadata": {},
   "source": [
    "The materials are defined as interpolators in a dictionary. Non-defined wavelengths give NaN for refractive index."
   ]
  },
  {
   "cell_type": "code",
   "execution_count": 71,
   "metadata": {
    "collapsed": false
   },
   "outputs": [],
   "source": [
    "materials = {}\n",
    "l_mat = linspace(200e-9, 2000e-9, 5000)\n",
    "w_mat = 2*pi*c/l_mat\n",
    "l2_mat = (l_mat*1e6)**2\n",
    "\n",
    "n_bk7 = sqrt(1 + 1.03961212*l2_mat / (l2_mat-0.00600069867) + \n",
    "             0.231792344*l2_mat/(l2_mat-0.0200179144) + \n",
    "             1.01046945*l2_mat/(l2_mat-103.560653))\n",
    "\n",
    "bk7_ip = interp1d(w_mat, n_bk7, bounds_error=False, fill_value=nan)\n",
    "materials['bk7'] = bk7_ip\n",
    "\n",
    "n_air = 1 + 0.05792105*l2_mat/(238.0185*l2_mat-1)+0.00167917*l2_mat/(57.362*l2_mat-1)\n",
    "air_ip = interp1d(w_mat, n_air, bounds_error=False, fill_value=nan)\n",
    "materials['air'] = air_ip\n",
    "\n",
    "n_fs = sqrt(1 + 0.6961663*l2_mat / (l2_mat-0.0684043**2) + \n",
    "             0.4079426*l2_mat/(l2_mat-0.1162414**2) + \n",
    "             0.8974794*l2_mat/(l2_mat-9.896161**2))\n",
    "fs_ip = interp1d(w_mat, n_fs, bounds_error=False, fill_value=nan)\n",
    "materials['fs'] = fs_ip\n",
    "\n",
    "n_mgf2 = sqrt(1 + 0.48755108*l2_mat / (l2_mat-0.04338408**2) + \n",
    "             0.39875031*l2_mat/(l2_mat-0.09461442**2) + \n",
    "             2.3120353*l2_mat/(l2_mat-23.793604**2))\n",
    "mgf2_ip = interp1d(w_mat, n_mgf2, bounds_error=False, fill_value=nan)\n",
    "materials['mgf2'] = mgf2_ip\n",
    "\n",
    "n_sapphire_o = sqrt(1 + 1.4313493*l2_mat / (l2_mat-0.0726631**2) + \n",
    "             0.65054713*l2_mat/(l2_mat-0.1193242**2) + \n",
    "             5.3414021*l2_mat/(l2_mat-18.028251**2))\n",
    "sapphire_o_ip = interp1d(w_mat, n_sapphire_o, bounds_error=False, fill_value=nan)\n",
    "materials['sapphire_o'] = sapphire_o_ip\n",
    "\n",
    "n_sapphire_e = sqrt(1 + 1.5039759*l2_mat / (l2_mat-0.0740288**2) + \n",
    "             0.55069141*l2_mat/(l2_mat-0.1216529**2) + \n",
    "             6.5927379*l2_mat/(l2_mat-20.072248**2))\n",
    "sapphire_e_ip = interp1d(w_mat, n_sapphire_e, bounds_error=False, fill_value=nan)\n",
    "materials['sapphire_e'] = sapphire_e_ip\n",
    "\n",
    "n_bbo_o = sqrt(2.7405 + 0.0184 / (l2_mat-0.0179) - 0.0155*l2_mat)\n",
    "bbo_o_ip = interp1d(w_mat, n_bbo_o, bounds_error=False, fill_value=nan)\n",
    "materials['bbo_o'] = bbo_o_ip\n",
    "\n",
    "n_bbo_e = sqrt(2.3730 + 0.0128 / (l2_mat-0.0156) - 0.0044*l2_mat)\n",
    "bbo_e_ip = interp1d(w_mat, n_bbo_e, bounds_error=False, fill_value=nan)\n",
    "materials['bbo_e'] = bbo_e_ip\n",
    "\n",
    "z_bk7 = 50e-3\n",
    "z_air = 0.0\n",
    "z_mgf2 = 0e-3"
   ]
  },
  {
   "cell_type": "code",
   "execution_count": 72,
   "metadata": {
    "collapsed": false
   },
   "outputs": [],
   "source": [
    "k_w = w * materials['bk7'](w) / c\n",
    "H_w = exp(-1j*k_w*z_bk7)\n",
    "# k_w = w * materials['air'](w) / c\n",
    "# H_w = H_w*exp(-1j*k_w*z_air)\n",
    "# k_w = w * materials['mgf2'](w) / c\n",
    "# H_w = H_w*exp(-1j*k_w*z_mgf2)\n",
    "H_w[isnan(H_w)]=0"
   ]
  },
  {
   "cell_type": "code",
   "execution_count": 73,
   "metadata": {
    "collapsed": false
   },
   "outputs": [],
   "source": [
    "E_w_out = H_w*E_w\n",
    "E_t_out = fft.ifft(fft.fftshift(E_w_out))"
   ]
  },
  {
   "cell_type": "code",
   "execution_count": 74,
   "metadata": {
    "collapsed": false
   },
   "outputs": [
    {
     "data": {
      "image/png": "[encoded data removed]",
      "text/plain": [
       "<matplotlib.figure.Figure at 0xbc52470>"
      ]
     },
     "metadata": {},
     "output_type": "display_data"
    }
   ],
   "source": [
    "plot(t*1e15, abs(E_t)**2)\n",
    "plot(t*1e15, abs(E_t_out)**2)\n",
    "ax = gca()\n",
    "#ax.set_xlim(-200, 200)\n",
    "grid()"
   ]
  },
  {
   "cell_type": "code",
   "execution_count": 75,
   "metadata": {
    "collapsed": false
   },
   "outputs": [
    {
     "data": {
      "text/plain": [
       "4.9810767916005251e-14"
      ]
     },
     "execution_count": 75,
     "metadata": {},
     "output_type": "execute_result"
    }
   ],
   "source": [
    "It = abs(E_t)**2\n",
    "It /= It.max()\n",
    "t_ind = np.where(np.diff(np.sign(It - 0.5)))[0]\n",
    "if t_ind.shape[0] > 1:\n",
    "    trace_fwhm = t[t_ind[-1]] - t[t_ind[0]]\n",
    "trace_fwhm"
   ]
  },
  {
   "cell_type": "code",
   "execution_count": 76,
   "metadata": {
    "collapsed": false
   },
   "outputs": [
    {
     "data": {
      "text/plain": [
       "1.3356122573556348e-13"
      ]
     },
     "execution_count": 76,
     "metadata": {},
     "output_type": "execute_result"
    }
   ],
   "source": [
    "It = abs(E_t_out)**2\n",
    "It /= It.max()\n",
    "t_ind = np.where(np.diff(np.sign(It - 0.5)))[0]\n",
    "if t_ind.shape[0] > 1:\n",
    "    trace_fwhm = t[t_ind[-1]] - t[t_ind[0]]\n",
    "trace_fwhm"
   ]
  },
  {
   "cell_type": "code",
   "execution_count": 70,
   "metadata": {
    "collapsed": false
   },
   "outputs": [
    {
     "data": {
      "text/plain": [
       "array([ -1.46383036e-07,  -1.46418783e-07,  -1.46454547e-07, ...,\n",
       "         1.46490329e-07,   1.46454547e-07,   1.46418783e-07])"
      ]
     },
     "execution_count": 70,
     "metadata": {},
     "output_type": "execute_result"
    },
    {
     "data": {
      "image/png": "[encoded data removed]",
      "text/plain": [
       "<matplotlib.figure.Figure at 0xbcf1b00>"
      ]
     },
     "metadata": {},
     "output_type": "display_data"
    }
   ],
   "source": [
    "l = 2*pi*c/w\n",
    "I_w = abs(E_w)**2\n",
    "I_w /= I_w.max()\n",
    "plot(l*1e9, I_w)\n",
    "ax = gca()\n",
    "ax.set_xlim(700, 900)\n",
    "grid()\n",
    "l"
   ]
  },
  {
   "cell_type": "code",
   "execution_count": null,
   "metadata": {
    "collapsed": true
   },
   "outputs": [],
   "source": []
  }
 ],
 "metadata": {
  "anaconda-cloud": {},
  "kernelspec": {
   "display_name": "Python [Root]",
   "language": "python",
   "name": "Python [Root]"
  },
  "language_info": {
   "codemirror_mode": {
    "name": "ipython",
    "version": 2
   },
   "file_extension": ".py",
   "mimetype": "text/x-python",
   "name": "python",
   "nbconvert_exporter": "python",
   "pygments_lexer": "ipython2",
   "version": "2.7.12"
  }
 },
 "nbformat": 4,
 "nbformat_minor": 0
}
